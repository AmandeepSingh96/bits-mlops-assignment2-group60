{
 "cells": [
  {
   "cell_type": "markdown",
   "id": "409b2973-37ff-4d81-a101-9e64b843a462",
   "metadata": {},
   "source": [
    "### **M4: Model Monitoring & Performance Tracking**\n",
    "\n",
    "Objective: Track and monitor model performance over time.\n",
    "\n",
    "**Tasks:**\n",
    "- Use an open-source tracking tool (e.g., MLflow, Neptune.ai, Weights & Biases) to log model performance metrics.\n",
    "- Implement drift detection to identify when retraining is required.\n",
    "\n",
    "**Deliverables:**\n",
    "- Performance tracking logs.\n",
    "- Drift detection implementation.\n",
    "- Screenshots showing model performance over multiple runs."
   ]
  },
  {
   "cell_type": "code",
   "execution_count": 10,
   "id": "ed071134-64fc-4f45-b266-481ade47f229",
   "metadata": {},
   "outputs": [
    {
     "name": "stderr",
     "output_type": "stream",
     "text": [
      "2025-03-22 16:52:54.897863: I tensorflow/core/platform/cpu_feature_guard.cc:193] This TensorFlow binary is optimized with oneAPI Deep Neural Network Library (oneDNN) to use the following CPU instructions in performance-critical operations:  SSE4.1 SSE4.2\n",
      "To enable them in other operations, rebuild TensorFlow with the appropriate compiler flags.\n"
     ]
    },
    {
     "name": "stdout",
     "output_type": "stream",
     "text": [
      "Epoch 1/3\n",
      "313/313 [==============================] - 3s 9ms/step - loss: 0.7083 - accuracy: 0.7377 - val_loss: 0.4988 - val_accuracy: 0.8110\n",
      "Epoch 2/3\n",
      "313/313 [==============================] - 3s 8ms/step - loss: 0.4504 - accuracy: 0.8358 - val_loss: 0.4605 - val_accuracy: 0.8365\n",
      "Epoch 3/3\n",
      "313/313 [==============================] - 3s 8ms/step - loss: 0.3824 - accuracy: 0.8636 - val_loss: 0.3931 - val_accuracy: 0.8650\n",
      "63/63 [==============================] - 0s 3ms/step - loss: 0.3931 - accuracy: 0.8650\n"
     ]
    },
    {
     "name": "stderr",
     "output_type": "stream",
     "text": [
      "2025/03/22 16:53:03 WARNING mlflow.tensorflow: You are saving a TensorFlow Core model or Keras model without a signature. Inference with mlflow.pyfunc.spark_udf() will not work unless the model's pyfunc representation accepts pandas DataFrames as inference inputs.\n",
      "WARNING:absl:Found untraced functions such as _jit_compiled_convolution_op, _jit_compiled_convolution_op while saving (showing 2 of 2). These functions will not be directly callable after loading.\n"
     ]
    },
    {
     "name": "stdout",
     "output_type": "stream",
     "text": [
      "INFO:tensorflow:Assets written to: /var/folders/x2/prhd9cmn58s93cc16zj2k78w0000gn/T/tmppzh0hfqz/model/data/model/assets\n"
     ]
    },
    {
     "name": "stderr",
     "output_type": "stream",
     "text": [
      "INFO:tensorflow:Assets written to: /var/folders/x2/prhd9cmn58s93cc16zj2k78w0000gn/T/tmppzh0hfqz/model/data/model/assets\n",
      "2025/03/22 16:53:10 WARNING mlflow.models.model: Model logged without a signature and input example. Please set `input_example` parameter when logging the model to auto infer the model signature.\n"
     ]
    },
    {
     "name": "stdout",
     "output_type": "stream",
     "text": [
      "Run 1: Accuracy = 0.8650, Loss = 0.3931\n",
      "Epoch 1/3\n",
      "313/313 [==============================] - 3s 9ms/step - loss: 0.7061 - accuracy: 0.7411 - val_loss: 0.5050 - val_accuracy: 0.8135\n",
      "Epoch 2/3\n",
      "313/313 [==============================] - 3s 8ms/step - loss: 0.4600 - accuracy: 0.8328 - val_loss: 0.4433 - val_accuracy: 0.8435\n",
      "Epoch 3/3\n",
      "313/313 [==============================] - 3s 8ms/step - loss: 0.3898 - accuracy: 0.8578 - val_loss: 0.4608 - val_accuracy: 0.8335\n",
      "63/63 [==============================] - 0s 3ms/step - loss: 0.4608 - accuracy: 0.8335\n"
     ]
    },
    {
     "name": "stderr",
     "output_type": "stream",
     "text": [
      "2025/03/22 16:53:19 WARNING mlflow.tensorflow: You are saving a TensorFlow Core model or Keras model without a signature. Inference with mlflow.pyfunc.spark_udf() will not work unless the model's pyfunc representation accepts pandas DataFrames as inference inputs.\n",
      "WARNING:absl:Found untraced functions such as _jit_compiled_convolution_op, _jit_compiled_convolution_op while saving (showing 2 of 2). These functions will not be directly callable after loading.\n"
     ]
    },
    {
     "name": "stdout",
     "output_type": "stream",
     "text": [
      "INFO:tensorflow:Assets written to: /var/folders/x2/prhd9cmn58s93cc16zj2k78w0000gn/T/tmp865pjz1u/model/data/model/assets\n"
     ]
    },
    {
     "name": "stderr",
     "output_type": "stream",
     "text": [
      "INFO:tensorflow:Assets written to: /var/folders/x2/prhd9cmn58s93cc16zj2k78w0000gn/T/tmp865pjz1u/model/data/model/assets\n",
      "2025/03/22 16:53:24 WARNING mlflow.models.model: Model logged without a signature and input example. Please set `input_example` parameter when logging the model to auto infer the model signature.\n"
     ]
    },
    {
     "name": "stdout",
     "output_type": "stream",
     "text": [
      "Run 2: Accuracy = 0.8335, Loss = 0.4608\n",
      "Epoch 1/3\n",
      "313/313 [==============================] - 3s 9ms/step - loss: 0.7163 - accuracy: 0.7314 - val_loss: 0.4853 - val_accuracy: 0.8220\n",
      "Epoch 2/3\n",
      "313/313 [==============================] - 3s 8ms/step - loss: 0.4686 - accuracy: 0.8268 - val_loss: 0.4623 - val_accuracy: 0.8290\n",
      "Epoch 3/3\n",
      "313/313 [==============================] - 3s 8ms/step - loss: 0.4040 - accuracy: 0.8545 - val_loss: 0.4248 - val_accuracy: 0.8530\n",
      "63/63 [==============================] - 0s 3ms/step - loss: 0.4248 - accuracy: 0.8530\n"
     ]
    },
    {
     "name": "stderr",
     "output_type": "stream",
     "text": [
      "2025/03/22 16:53:33 WARNING mlflow.tensorflow: You are saving a TensorFlow Core model or Keras model without a signature. Inference with mlflow.pyfunc.spark_udf() will not work unless the model's pyfunc representation accepts pandas DataFrames as inference inputs.\n",
      "WARNING:absl:Found untraced functions such as _jit_compiled_convolution_op, _jit_compiled_convolution_op while saving (showing 2 of 2). These functions will not be directly callable after loading.\n"
     ]
    },
    {
     "name": "stdout",
     "output_type": "stream",
     "text": [
      "INFO:tensorflow:Assets written to: /var/folders/x2/prhd9cmn58s93cc16zj2k78w0000gn/T/tmpdhuchthg/model/data/model/assets\n"
     ]
    },
    {
     "name": "stderr",
     "output_type": "stream",
     "text": [
      "INFO:tensorflow:Assets written to: /var/folders/x2/prhd9cmn58s93cc16zj2k78w0000gn/T/tmpdhuchthg/model/data/model/assets\n",
      "2025/03/22 16:53:39 WARNING mlflow.models.model: Model logged without a signature and input example. Please set `input_example` parameter when logging the model to auto infer the model signature.\n"
     ]
    },
    {
     "name": "stdout",
     "output_type": "stream",
     "text": [
      "Run 3: Accuracy = 0.8530, Loss = 0.4248\n",
      "Epoch 1/3\n",
      "313/313 [==============================] - 3s 9ms/step - loss: 0.7273 - accuracy: 0.7361 - val_loss: 0.4935 - val_accuracy: 0.8295\n",
      "Epoch 2/3\n",
      "313/313 [==============================] - 3s 8ms/step - loss: 0.4550 - accuracy: 0.8334 - val_loss: 0.4447 - val_accuracy: 0.8435\n",
      "Epoch 3/3\n",
      "313/313 [==============================] - 3s 8ms/step - loss: 0.3883 - accuracy: 0.8586 - val_loss: 0.4041 - val_accuracy: 0.8560\n",
      "63/63 [==============================] - 0s 3ms/step - loss: 0.4041 - accuracy: 0.8560\n"
     ]
    },
    {
     "name": "stderr",
     "output_type": "stream",
     "text": [
      "2025/03/22 16:53:47 WARNING mlflow.tensorflow: You are saving a TensorFlow Core model or Keras model without a signature. Inference with mlflow.pyfunc.spark_udf() will not work unless the model's pyfunc representation accepts pandas DataFrames as inference inputs.\n",
      "WARNING:absl:Found untraced functions such as _jit_compiled_convolution_op, _jit_compiled_convolution_op while saving (showing 2 of 2). These functions will not be directly callable after loading.\n"
     ]
    },
    {
     "name": "stdout",
     "output_type": "stream",
     "text": [
      "INFO:tensorflow:Assets written to: /var/folders/x2/prhd9cmn58s93cc16zj2k78w0000gn/T/tmp2ao52gz4/model/data/model/assets\n"
     ]
    },
    {
     "name": "stderr",
     "output_type": "stream",
     "text": [
      "INFO:tensorflow:Assets written to: /var/folders/x2/prhd9cmn58s93cc16zj2k78w0000gn/T/tmp2ao52gz4/model/data/model/assets\n",
      "2025/03/22 16:53:53 WARNING mlflow.models.model: Model logged without a signature and input example. Please set `input_example` parameter when logging the model to auto infer the model signature.\n"
     ]
    },
    {
     "name": "stdout",
     "output_type": "stream",
     "text": [
      "Run 4: Accuracy = 0.8560, Loss = 0.4041\n",
      "Epoch 1/3\n",
      "313/313 [==============================] - 3s 9ms/step - loss: 0.7214 - accuracy: 0.7324 - val_loss: 0.5553 - val_accuracy: 0.8080\n",
      "Epoch 2/3\n",
      "313/313 [==============================] - 3s 8ms/step - loss: 0.4564 - accuracy: 0.8351 - val_loss: 0.4471 - val_accuracy: 0.8435\n",
      "Epoch 3/3\n",
      "313/313 [==============================] - 3s 8ms/step - loss: 0.3956 - accuracy: 0.8557 - val_loss: 0.4174 - val_accuracy: 0.8510\n",
      "63/63 [==============================] - 0s 4ms/step - loss: 0.4174 - accuracy: 0.8510\n"
     ]
    },
    {
     "name": "stderr",
     "output_type": "stream",
     "text": [
      "2025/03/22 16:54:02 WARNING mlflow.tensorflow: You are saving a TensorFlow Core model or Keras model without a signature. Inference with mlflow.pyfunc.spark_udf() will not work unless the model's pyfunc representation accepts pandas DataFrames as inference inputs.\n",
      "WARNING:absl:Found untraced functions such as _jit_compiled_convolution_op, _jit_compiled_convolution_op while saving (showing 2 of 2). These functions will not be directly callable after loading.\n"
     ]
    },
    {
     "name": "stdout",
     "output_type": "stream",
     "text": [
      "INFO:tensorflow:Assets written to: /var/folders/x2/prhd9cmn58s93cc16zj2k78w0000gn/T/tmp6x8d6b6c/model/data/model/assets\n"
     ]
    },
    {
     "name": "stderr",
     "output_type": "stream",
     "text": [
      "INFO:tensorflow:Assets written to: /var/folders/x2/prhd9cmn58s93cc16zj2k78w0000gn/T/tmp6x8d6b6c/model/data/model/assets\n",
      "2025/03/22 16:54:08 WARNING mlflow.models.model: Model logged without a signature and input example. Please set `input_example` parameter when logging the model to auto infer the model signature.\n"
     ]
    },
    {
     "name": "stdout",
     "output_type": "stream",
     "text": [
      "Run 5: Accuracy = 0.8510, Loss = 0.4174\n",
      "\n",
      "Run the following command in your terminal to view MLflow logs:\n",
      "\n",
      "mlflow ui --host 0.0.0.0 --port 5000\n"
     ]
    }
   ],
   "source": [
    "import mlflow\n",
    "import mlflow.keras\n",
    "import numpy as np\n",
    "import tensorflow as tf\n",
    "from tensorflow import keras\n",
    "from tensorflow.keras import layers\n",
    "from sklearn.model_selection import train_test_split\n",
    "from skmultiflow.drift_detection.adwin import ADWIN\n",
    "\n",
    "# Load Fashion MNIST and reduce dataset size for efficiency\n",
    "(x_train, y_train), (x_test, y_test) = keras.datasets.fashion_mnist.load_data()\n",
    "x_train, y_train = x_train[:10000], y_train[:10000]  # Reduce to 10K samples\n",
    "x_test, y_test = x_test[:2000], y_test[:2000]  # Reduce test set for efficiency\n",
    "\n",
    "# Normalize data\n",
    "x_train, x_test = x_train / 255.0, x_test / 255.0\n",
    "x_train = x_train.reshape(-1, 28, 28, 1)\n",
    "x_test = x_test.reshape(-1, 28, 28, 1)\n",
    "\n",
    "# Define CNN model\n",
    "def create_model():\n",
    "    model = keras.Sequential([\n",
    "        layers.Conv2D(32, (3, 3), activation=\"relu\", input_shape=(28, 28, 1)),\n",
    "        layers.MaxPooling2D((2, 2)),\n",
    "        layers.Conv2D(64, (3, 3), activation=\"relu\"),\n",
    "        layers.MaxPooling2D((2, 2)),\n",
    "        layers.Flatten(),\n",
    "        layers.Dense(128, activation=\"relu\"),\n",
    "        layers.Dense(10, activation=\"softmax\"),\n",
    "    ])\n",
    "    model.compile(optimizer=\"adam\", loss=\"sparse_categorical_crossentropy\", metrics=[\"accuracy\"])\n",
    "    return model\n",
    "\n",
    "# Initialize MLflow experiment\n",
    "mlflow.set_experiment(\"FashionMNIST-Tracking\")\n",
    "\n",
    "# Initialize ADWIN for drift detection across runs\n",
    "adwin = ADWIN()\n",
    "previous_acc = None\n",
    "\n",
    "# Train & log model performance over multiple runs\n",
    "for run in range(5):  # Train 5 times to observe drift\n",
    "    with mlflow.start_run():\n",
    "        model = create_model()\n",
    "        history = model.fit(x_train, y_train, epochs=3, validation_data=(x_test, y_test), verbose=1)\n",
    "        \n",
    "        # Evaluate model\n",
    "        test_loss, test_acc = model.evaluate(x_test, y_test)\n",
    "        \n",
    "        # Log metrics\n",
    "        mlflow.log_metric(\"test_loss\", test_loss)\n",
    "        mlflow.log_metric(\"test_accuracy\", test_acc)\n",
    "        \n",
    "        # Log model\n",
    "        mlflow.keras.log_model(model, \"model\")\n",
    "        \n",
    "        print(f\"Run {run+1}: Accuracy = {test_acc:.4f}, Loss = {test_loss:.4f}\")\n",
    "\n",
    "        # Add accuracy to ADWIN drift detector\n",
    "        adwin.add_element(test_acc)\n",
    "        \n",
    "        # Check for drift compared to previous runs\n",
    "        if previous_acc is not None and adwin.detected_change():\n",
    "            print(f\"⚠️ Drift detected in Run {run+1}! Consider retraining the model.\")\n",
    "        \n",
    "        previous_acc = test_acc  # Update previous accuracy\n",
    "\n",
    "# MLflow UI command (Run this in your terminal to view logs)\n",
    "print(\"\\nRun the following command in your terminal to view MLflow logs:\\n\")\n",
    "print(\"mlflow ui --host 0.0.0.0 --port 5000\")\n"
   ]
  },
  {
   "cell_type": "code",
   "execution_count": null,
   "id": "91cc6a96-594c-42c6-80c1-213b27c7d424",
   "metadata": {},
   "outputs": [
    {
     "name": "stdout",
     "output_type": "stream",
     "text": [
      "[2025-03-22 16:44:39 +0530] [2537] [INFO] Starting gunicorn 23.0.0\n",
      "[2025-03-22 16:44:39 +0530] [2537] [INFO] Listening at: http://0.0.0.0:5001 (2537)\n",
      "[2025-03-22 16:44:39 +0530] [2537] [INFO] Using worker: sync\n",
      "[2025-03-22 16:44:39 +0530] [2538] [INFO] Booting worker with pid: 2538\n",
      "[2025-03-22 16:44:39 +0530] [2539] [INFO] Booting worker with pid: 2539\n",
      "[2025-03-22 16:44:39 +0530] [2540] [INFO] Booting worker with pid: 2540\n",
      "[2025-03-22 16:44:39 +0530] [2541] [INFO] Booting worker with pid: 2541\n"
     ]
    }
   ],
   "source": [
    "!mlflow ui --host 0.0.0.0 --port 5001"
   ]
  },
  {
   "cell_type": "markdown",
   "id": "ea22e57e-61c0-46ee-a37d-f37e1839b3e0",
   "metadata": {},
   "source": [
    "### Load MLflow and Fetch Experiment Details"
   ]
  },
  {
   "cell_type": "code",
   "execution_count": 11,
   "id": "6a34e7f9-9030-4362-b5af-46d95d9062b5",
   "metadata": {},
   "outputs": [
    {
     "name": "stdout",
     "output_type": "stream",
     "text": [
      "                             run_id  test_accuracy  test_loss  duration  \\\n",
      "0  76f5a44f07e043b9b54bf7ea295b4adf         0.8650   0.393121     15691   \n",
      "1  8c9d62554d5c482e85c973ffc5525dea         0.8560   0.404077     14817   \n",
      "2  3f7dc3435621418f9f4f416e1d709b75         0.8530   0.424768     14314   \n",
      "3  cedeef3acffa4255a8b6ada3fc721731         0.8510   0.417404     14427   \n",
      "4  8d4d9992afcf437fbd57757cda9ed41e         0.8335   0.460780     14246   \n",
      "\n",
      "               start_time  \n",
      "0 2025-03-22 11:22:54.868  \n",
      "1 2025-03-22 11:23:39.127  \n",
      "2 2025-03-22 11:23:24.810  \n",
      "3 2025-03-22 11:23:53.946  \n",
      "4 2025-03-22 11:23:10.562  \n"
     ]
    }
   ],
   "source": [
    "import mlflow\n",
    "import mlflow.keras\n",
    "from mlflow.tracking import MlflowClient\n",
    "import pandas as pd\n",
    "\n",
    "# Initialize MLflow client\n",
    "client = MlflowClient()\n",
    "\n",
    "# Get Experiment ID (replace with your actual experiment name)\n",
    "experiment_name = \"FashionMNIST-Tracking\"\n",
    "experiment = client.get_experiment_by_name(experiment_name)\n",
    "experiment_id = experiment.experiment_id\n",
    "\n",
    "# Fetch all runs from the experiment\n",
    "runs = client.search_runs(experiment_id, order_by=[\"metrics.test_accuracy DESC\"])\n",
    "\n",
    "# Convert to Pandas DataFrame for analysis\n",
    "df = pd.DataFrame([{  \n",
    "    \"run_id\": run.info.run_id,  \n",
    "    \"test_accuracy\": run.data.metrics[\"test_accuracy\"],  \n",
    "    \"test_loss\": run.data.metrics[\"test_loss\"],  \n",
    "    \"duration\": run.info.end_time - run.info.start_time,  # Compute duration,\n",
    "    \"start_time\": run.info.start_time\n",
    "} for run in runs])\n",
    "\n",
    "# Convert start_time to datetime format for better visualization\n",
    "df[\"start_time\"] = pd.to_datetime(df[\"start_time\"], unit=\"ms\")\n",
    "\n",
    "# Display sorted runs (best accuracy first)\n",
    "print(df)\n"
   ]
  },
  {
   "cell_type": "markdown",
   "id": "d36ac3be-cf9f-4b04-9a09-4c47f72bfba0",
   "metadata": {},
   "source": [
    "### Visualize Performance Trends"
   ]
  },
  {
   "cell_type": "code",
   "execution_count": 12,
   "id": "64c65579-582c-43ee-9e70-6e010150e925",
   "metadata": {},
   "outputs": [
    {
     "data": {
      "image/png": "[encoded data removed]",
      "text/plain": [
       "<Figure size 1000x500 with 1 Axes>"
      ]
     },
     "metadata": {},
     "output_type": "display_data"
    }
   ],
   "source": [
    "import matplotlib.pyplot as plt\n",
    "\n",
    "# Sort by test accuracy\n",
    "df_sorted = df.sort_values(\"test_accuracy\", ascending=False)\n",
    "\n",
    "# Plot accuracy comparison\n",
    "plt.figure(figsize=(10, 5))\n",
    "plt.barh(df_sorted[\"run_id\"], df_sorted[\"test_accuracy\"], color=\"blue\")\n",
    "plt.xlabel(\"Test Accuracy\")\n",
    "plt.ylabel(\"Run ID\")\n",
    "plt.title(\"Comparison of MLflow Runs by Test Accuracy\")\n",
    "plt.gca().invert_yaxis()  # Best model at the top\n",
    "plt.show()"
   ]
  },
  {
   "cell_type": "markdown",
   "id": "1d8c66d0-085b-4c3e-bf2f-01d9451527f6",
   "metadata": {},
   "source": [
    "### Load the Best Model for Deployment"
   ]
  },
  {
   "cell_type": "code",
   "execution_count": 13,
   "id": "03673a48-6f16-4990-b478-2d22418ae636",
   "metadata": {},
   "outputs": [
    {
     "name": "stdout",
     "output_type": "stream",
     "text": [
      "Model: \"sequential\"\n",
      "_________________________________________________________________\n",
      " Layer (type)                Output Shape              Param #   \n",
      "=================================================================\n",
      " conv2d (Conv2D)             (None, 26, 26, 32)        320       \n",
      "                                                                 \n",
      " max_pooling2d (MaxPooling2D  (None, 13, 13, 32)       0         \n",
      " )                                                               \n",
      "                                                                 \n",
      " conv2d_1 (Conv2D)           (None, 11, 11, 64)        18496     \n",
      "                                                                 \n",
      " max_pooling2d_1 (MaxPooling  (None, 5, 5, 64)         0         \n",
      " 2D)                                                             \n",
      "                                                                 \n",
      " flatten (Flatten)           (None, 1600)              0         \n",
      "                                                                 \n",
      " dense (Dense)               (None, 128)               204928    \n",
      "                                                                 \n",
      " dense_1 (Dense)             (None, 10)                1290      \n",
      "                                                                 \n",
      "=================================================================\n",
      "Total params: 225,034\n",
      "Trainable params: 225,034\n",
      "Non-trainable params: 0\n",
      "_________________________________________________________________\n"
     ]
    }
   ],
   "source": [
    "best_run_id = df_sorted.iloc[0][\"run_id\"]  # Get best run based on accuracy\n",
    "\n",
    "# Load the best model\n",
    "best_model = mlflow.keras.load_model(f\"runs:/{best_run_id}/model\")\n",
    "\n",
    "# Print model summary\n",
    "best_model.summary()"
   ]
  },
  {
   "cell_type": "markdown",
   "id": "ae64446a-08c7-42e4-83d5-1f703eb59fd6",
   "metadata": {},
   "source": [
    "### Identify Sudden Drops in Accuracy, drift detection"
   ]
  },
  {
   "cell_type": "code",
   "execution_count": 14,
   "id": "a1d60c43-57e6-4534-a6f1-d1cc5434ee2d",
   "metadata": {},
   "outputs": [
    {
     "name": "stdout",
     "output_type": "stream",
     "text": [
      "✅ No significant accuracy drops detected.\n"
     ]
    },
    {
     "data": {
      "image/png": "[encoded data removed]",
      "text/plain": [
       "<Figure size 1000x500 with 1 Axes>"
      ]
     },
     "metadata": {},
     "output_type": "display_data"
    }
   ],
   "source": [
    "# Define threshold for significant accuracy drop (e.g., 5% or 0.05)\n",
    "accuracy_drop_threshold = 0.05  \n",
    "\n",
    "# Compute accuracy change between consecutive runs\n",
    "df[\"accuracy_change\"] = df[\"test_accuracy\"].diff()\n",
    "\n",
    "# Identify runs where accuracy drops beyond the threshold\n",
    "drift_runs = df[df[\"accuracy_change\"] < -accuracy_drop_threshold]\n",
    "\n",
    "if not drift_runs.empty:\n",
    "    print(\"⚠️ Possible data drift detected in the following runs:\")\n",
    "    print(drift_runs)\n",
    "else:\n",
    "    print(\"✅ No significant accuracy drops detected.\")\n",
    "\n",
    "import matplotlib.pyplot as plt\n",
    "\n",
    "plt.figure(figsize=(10, 5))\n",
    "plt.plot(df[\"start_time\"], df[\"test_accuracy\"], marker=\"o\", linestyle=\"-\", label=\"Test Accuracy\")\n",
    "plt.axhline(y=df[\"test_accuracy\"].max() - accuracy_drop_threshold, color=\"red\", linestyle=\"--\", label=\"Drift Threshold\")\n",
    "plt.xlabel(\"Run Timestamp\")\n",
    "plt.ylabel(\"Test Accuracy\")\n",
    "plt.title(\"Accuracy Over Time - Drift Detection\")\n",
    "plt.legend()\n",
    "plt.xticks(rotation=45)\n",
    "plt.show()\n",
    "\n"
   ]
  },
  {
   "cell_type": "markdown",
   "id": "c6e3a884-4b37-47e4-87c9-0d9cf8fd979a",
   "metadata": {},
   "source": [
    "## **MLflow Experiment Report: FashionMNIST-Tracking**\n",
    "\n",
    "### **1. Experiment Overview**\n",
    "\n",
    "- **Experiment Name**: `FashionMNIST-Tracking`  \n",
    "- **Total Runs**: 5  \n",
    "- **Tracked Metrics**: `test_accuracy`, `test_loss`, `duration`, `start_time`  \n",
    "- **Tracked Model**: `CNN (sequential)`\n",
    "\n",
    "---\n",
    "\n",
    "### **2. Run Performance Summary**\n",
    "\n",
    "| Run ID                             | Test Accuracy | Test Loss | Duration (s) | Start Time           |\n",
    "|------------------------------------|---------------|-----------|--------------|----------------------|\n",
    "| **76f5a44f07e043b9b54bf7ea295b4adf** | **0.8650**     | 0.393121  | 15691        | 2025-03-22 11:22:54  |\n",
    "| 8c9d62554d5c482e85c973ffc5525dea   | 0.8560        | 0.404077  | 14817        | 2025-03-22 11:23:39  |\n",
    "| 3f7dc3435621418f9f4f416e1d709b75   | 0.8530        | 0.424768  | 14314        | 2025-03-22 11:23:24  |\n",
    "| cedeef3acffa4255a8b6ada3fc721731   | 0.8510        | 0.417404  | 14427        | 2025-03-22 11:23:53  |\n",
    "| **8d4d9992afcf437fbd57757cda9ed41e** | **0.8335**     | 0.460780  | 14246        | 2025-03-22 11:23:10  |\n",
    "\n",
    "📌 **Best Accuracy:** `86.50%` (Run ID: `76f5a44f07e043b9b54bf7ea295b4adf`)  \n",
    "📌 **Worst Accuracy:** `83.35%` (Run ID: `8d4d9992afcf437fbd57757cda9ed41e`)  \n",
    "📌 **No sudden accuracy drop detected** across runs.\n",
    "\n",
    "---\n",
    "\n",
    "### **3. Model Architecture (Sequential CNN)**\n",
    "\n",
    "```\n",
    "Layer (type)                   Output Shape         Param #\n",
    "-------------------------------------------------------------\n",
    "conv2d (Conv2D)                (None, 26, 26, 32)   320\n",
    "max_pooling2d (MaxPooling2D)   (None, 13, 13, 32)   0\n",
    "conv2d_1 (Conv2D)              (None, 11, 11, 64)   18,496\n",
    "max_pooling2d_1 (MaxPooling2D) (None, 5, 5, 64)     0\n",
    "flatten (Flatten)             (None, 1600)          0\n",
    "dense (Dense)                 (None, 128)           204,928\n",
    "dense_1 (Dense)               (None, 10)            1,290\n",
    "-------------------------------------------------------------\n",
    "Total params: **225,034**\n",
    "Trainable params: **225,034**\n",
    "Non-trainable params: **0**\n",
    "```\n",
    "\n",
    "---\n",
    "\n",
    "### **4. Accuracy Trend Analysis**\n",
    "✅ **No sudden accuracy drop detected** across runs.  \n",
    "✅ **No significant data drift observed** (threshold: 5% drop).  \n",
    "✅ **Top 3 performing models** show accuracy ≥ `85.30%`.  \n",
    "\n",
    "---\n",
    "\n",
    "\n"
   ]
  },
  {
   "cell_type": "code",
   "execution_count": null,
   "id": "d90eebbe-f0c9-4866-86c7-c00140f50f34",
   "metadata": {},
   "outputs": [],
   "source": []
  }
 ],
 "metadata": {
  "kernelspec": {
   "display_name": "Python 3 (ipykernel)",
   "language": "python",
   "name": "python3"
  },
  "language_info": {
   "codemirror_mode": {
    "name": "ipython",
    "version": 3
   },
   "file_extension": ".py",
   "mimetype": "text/x-python",
   "name": "python",
   "nbconvert_exporter": "python",
   "pygments_lexer": "ipython3",
   "version": "3.8.18"
  }
 },
 "nbformat": 4,
 "nbformat_minor": 5
}
